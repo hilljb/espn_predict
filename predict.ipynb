{
 "cells": [
  {
   "cell_type": "code",
   "execution_count": 1,
   "id": "684a4460-8868-4cec-ae03-d51e97d6058e",
   "metadata": {},
   "outputs": [],
   "source": [
    "import datetime\n",
    "import requests\n",
    "import time"
   ]
  },
  {
   "cell_type": "code",
   "execution_count": 2,
   "id": "9fa11d6a-a96f-4276-825e-1c901e3e057f",
   "metadata": {},
   "outputs": [],
   "source": [
    "def get_away_team(match):\n",
    "    return match.split('href')[2].split('>')[1].split('<')[0]"
   ]
  },
  {
   "cell_type": "code",
   "execution_count": 3,
   "id": "633c58c1-7201-4b8f-8bd6-0b77af125157",
   "metadata": {},
   "outputs": [],
   "source": [
    "def get_home_team(match):\n",
    "    return match.split('href')[4].split('>')[1].split('<')[0]"
   ]
  },
  {
   "cell_type": "code",
   "execution_count": 4,
   "id": "cc329fa9-10d9-44d3-bd7b-5f168f57034e",
   "metadata": {},
   "outputs": [],
   "source": [
    "def get_game_link(match):\n",
    "    return 'https://www.espn.com' + match.split('href')[5].split('\"')[1]"
   ]
  },
  {
   "cell_type": "code",
   "execution_count": 5,
   "id": "4cabc209-c363-4efe-9625-922cc65eca3c",
   "metadata": {},
   "outputs": [],
   "source": [
    "teams = [\n",
    "    'Illinois',\n",
    "    'Indiana',\n",
    "    'Iowa',\n",
    "    'Maryland',\n",
    "    'Michigan',\n",
    "    'Michigan State',\n",
    "    'Minnesota',\n",
    "    'Nebraska',\n",
    "    'Northwestern',\n",
    "    'Ohio State',\n",
    "    'Penn State',\n",
    "    'Purdue',\n",
    "    'Rutgers',\n",
    "    'Wisconsin'\n",
    "]"
   ]
  },
  {
   "cell_type": "code",
   "execution_count": 6,
   "id": "5c0879d8-3915-4b18-9946-7a0b30cb3700",
   "metadata": {},
   "outputs": [],
   "source": [
    "def get_prediction(link):\n",
    "    \n",
    "    pred = requests.get(link).text.split('matchupPredictor')[2].split('value=\"')\n",
    "    \n",
    "    home = pred[1].split('\"')[0]\n",
    "    away = pred[2].split('\"')[0]\n",
    "    \n",
    "    return (float(away), float(home))"
   ]
  },
  {
   "cell_type": "code",
   "execution_count": 10,
   "id": "8ceccf16-963c-4fba-b610-9f4d4e73d3c5",
   "metadata": {},
   "outputs": [],
   "source": [
    "def games(days_from_today, teams):\n",
    "    date = datetime.datetime.today() + datetime.timedelta(days=days_from_today)\n",
    "    print('date: %s' % date.strftime(\"%a %m-%d-%Y\"))\n",
    "    \n",
    "    url = 'https://www.espn.com/mens-college-basketball/schedule/_/date/' + date.strftime(\"%Y%m%d\")\n",
    "    \n",
    "    games = requests.get(url).text.split('<span class=\"Table__Team away\">')[1:]\n",
    "    \n",
    "    for game in games:\n",
    "        away = get_away_team(game)\n",
    "        home = get_home_team(game)\n",
    "        link = get_game_link(game)\n",
    "        \n",
    "        if away in teams or home in teams:\n",
    "            prediction = get_prediction(link)\n",
    "            print('%s %s%% \\t@ %s %s%%' % (away, prediction[0], home, prediction[1]))\n",
    "            time.sleep(10) # Let's not get rate limited, in case that's a thing\n",
    "    print(\" \")"
   ]
  },
  {
   "cell_type": "code",
   "execution_count": 11,
   "id": "dd370fbb-82e0-43d3-8d8a-2cf4ea484427",
   "metadata": {},
   "outputs": [
    {
     "name": "stdout",
     "output_type": "stream",
     "text": [
      "date: Tue 01-17-2023\n",
      "Penn State 37.7% \t@ Wisconsin 62.3%\n",
      " \n",
      "date: Wed 01-18-2023\n",
      "Ohio State 76.5% \t@ Nebraska 23.5%\n",
      "Northwestern 24.0% \t@ Iowa 76.0%\n",
      " \n",
      "date: Thu 01-19-2023\n",
      "Rutgers 58.5% \t@ Michigan State 41.5%\n",
      "Purdue 89.1% \t@ Minnesota 10.9%\n",
      "Michigan 21.5% \t@ Maryland 78.5%\n",
      "Indiana 40.4% \t@ Illinois 59.6%\n",
      " \n",
      "date: Fri 01-20-2023\n",
      " \n",
      "date: Sat 01-21-2023\n",
      "Wisconsin 33.1% \t@ Northwestern 66.9%\n",
      "Iowa 25.9% \t@ Ohio State 74.1%\n",
      "Nebraska 14.2% \t@ Penn State 85.8%\n",
      " \n",
      "date: Sun 01-22-2023\n",
      "Maryland 17.1% \t@ Purdue 82.9%\n",
      "Minnesota 13.1% \t@ Michigan 86.9%\n",
      "Michigan State 20.1% \t@ Indiana 79.9%\n",
      " \n"
     ]
    }
   ],
   "source": [
    "for i in range(1,7):\n",
    "    games(i, teams)"
   ]
  },
  {
   "cell_type": "code",
   "execution_count": null,
   "id": "ff0f7597-4da1-42f9-8a90-a9a5b0442087",
   "metadata": {},
   "outputs": [],
   "source": []
  }
 ],
 "metadata": {
  "kernelspec": {
   "display_name": "Python 3 (ipykernel)",
   "language": "python",
   "name": "python3"
  },
  "language_info": {
   "codemirror_mode": {
    "name": "ipython",
    "version": 3
   },
   "file_extension": ".py",
   "mimetype": "text/x-python",
   "name": "python",
   "nbconvert_exporter": "python",
   "pygments_lexer": "ipython3",
   "version": "3.9.15"
  }
 },
 "nbformat": 4,
 "nbformat_minor": 5
}
